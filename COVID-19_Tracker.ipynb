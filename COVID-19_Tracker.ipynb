{
 "cells": [
  {
   "cell_type": "markdown",
   "metadata": {},
   "source": [
    "\n",
    "    "
   ]
  },
  {
   "cell_type": "code",
   "execution_count": null,
   "metadata": {},
   "outputs": [],
   "source": [
    "import json\n",
    "import os\n",
    "from datetime import datetime\n",
    "\n",
    "covid_file = 'covid_cases.json'\n",
    "\n",
    "def check_for_file(covid_file):\n",
    "    # Check to see if the covid_cases.json file exists and is not empty.\n",
    "    if os.path.exists(covid_file) and os.stat(covid_file).st_size != 0:\n",
    "        return True\n",
    "    else:\n",
    "        print(f\"The file {covid_file} has size {os.stat(covid_file).st_size}\")\n",
    "        return False\n",
    "    \n",
    "def get_country_information(existing_data):\n",
    "    '''We have to read the existing information, then append the new information and write all of it.\n",
    "    This method requires us to overwrite the file every time we add more information, but I don't know JSON\n",
    "    well enough to do it in a single write.'''\n",
    "    \n",
    "    write_data = existing_data[:]\n",
    "    today = datetime.today()\n",
    "    date = today.strftime(\"%B %d, %Y %H:%M\")\n",
    "    country = input(\"Enter Country ('q' to quit): \")\n",
    "    if country == 'q':\n",
    "        return False\n",
    "    else:\n",
    "        number_of_cases = input(\"Enter number of cases ('q' to quit: \")\n",
    "        if number_of_cases == 'q':\n",
    "            return False\n",
    "        else:\n",
    "            country_information = [country, date, number_of_cases]\n",
    "            write_data.append(country_information)\n",
    "            print(write_data)\n",
    "            with open('covid_cases.json', 'w') as f:\n",
    "                json.dump(write_data, f)\n",
    "                get_country_information(write_data)\n",
    "            \n",
    "#def write_to_file(country_information):\n",
    "#    print(country_information)\n",
    "\n",
    "\"\"\"Check to see if the covid_cases.json file exists.\n",
    "    If it does, read the data from the file.\n",
    "    If it doesn't, created it.\n",
    "    Either way, we then get new country information\"\"\"\n",
    "    \n",
    "if check_for_file(covid_file):\n",
    "    print(f\"{covid_file} exists.\")\n",
    "    # Read the file \n",
    "    with open(covid_file) as f:\n",
    "        existing_data = json.load(f)\n",
    "        print(f\"Existing Data: {existing_data}\")\n",
    "        get_country_information(existing_data)\n",
    "else:\n",
    "    print(f\"{covid_file} does not exist.\")\n",
    "    print(\"Creating file.\")\n",
    "    covid_file = open(covid_file, 'w')\n",
    "    covid_file.close()\n",
    "    existing_data = []\n",
    "    existing_data = get_country_information(existing_data)\n"
   ]
  },
  {
   "cell_type": "code",
   "execution_count": null,
   "metadata": {},
   "outputs": [],
   "source": []
  }
 ],
 "metadata": {
  "kernelspec": {
   "display_name": "Python 3",
   "language": "python",
   "name": "python3"
  },
  "language_info": {
   "codemirror_mode": {
    "name": "ipython",
    "version": 3
   },
   "file_extension": ".py",
   "mimetype": "text/x-python",
   "name": "python",
   "nbconvert_exporter": "python",
   "pygments_lexer": "ipython3",
   "version": "3.7.4"
  }
 },
 "nbformat": 4,
 "nbformat_minor": 2
}
