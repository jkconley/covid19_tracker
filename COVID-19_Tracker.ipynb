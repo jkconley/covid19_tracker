{
 "cells": [
  {
   "cell_type": "markdown",
   "metadata": {},
   "source": [
    "\n",
    "    "
   ]
  },
  {
   "cell_type": "code",
   "execution_count": null,
   "metadata": {},
   "outputs": [],
   "source": [
    "'''Create a dictionary with date, country and number of cases'''\n",
    "import json\n",
    "from datetime import datetime\n",
    "\n",
    "today = datetime.today()\n",
    "date = today.strftime(\"%B %d, %Y %H:%M\")\n",
    "country_information = []\n",
    "countries = []\n",
    "covid_cases = []\n",
    "covid_file = 'covid_cases.json'\n",
    "\n",
    "'''Get country and cases information'''\n",
    "get_information = True\n",
    "while get_information:\n",
    "    \n",
    "    country = input(\"Enter Country ('q' to quit): \")\n",
    "    if country == 'q':\n",
    "        get_information = False\n",
    "        break\n",
    "    else:\n",
    "        number_of_cases = input(\"Enter number of cases ('q' to quit: \")\n",
    "        if number_of_cases == 'q':\n",
    "            get_information = False\n",
    "        else:\n",
    "            country_information = [country, date, number_of_cases]\n",
    "            covid_cases.append(country_information)\n",
    "            \n",
    "            with open('covid_cases.json', 'w') as f:\n",
    "                json.dump(covid_cases, f)\n",
    "            \n",
    "             #   json.dump(dump, f)\n",
    "\n",
    "for i in range(0, len(covid_cases)):\n",
    "   if covid_cases[i][0]: # 'United States':\n",
    "       print(covid_cases[i])\n",
    "  # print(covid_cases[i])\n"
   ]
  },
  {
   "cell_type": "code",
   "execution_count": 40,
   "metadata": {},
   "outputs": [
    {
     "name": "stdout",
     "output_type": "stream",
     "text": [
      "covid_cases.json exists.\n",
      "Existing Data: [['United States', 'March 21, 2020 18:18', '19624'], ['Kuwait', 'March 21, 2020 18:18', '176'], ['Iraq', 'March 21, 2020 18:24', '208'], ['United States', 'March 21, 2020 18:26', '19624']]\n",
      "Enter Country ('q' to quit): Russia\n",
      "Enter number of cases ('q' to quit: 308\n",
      "[['United States', 'March 21, 2020 18:18', '19624'], ['Kuwait', 'March 21, 2020 18:18', '176'], ['Iraq', 'March 21, 2020 18:24', '208'], ['United States', 'March 21, 2020 18:26', '19624'], ['Russia', 'March 21, 2020 18:30', '308']]\n",
      "Enter Country ('q' to quit): q\n"
     ]
    }
   ],
   "source": [
    "import json\n",
    "import os\n",
    "from datetime import datetime\n",
    "\n",
    "covid_file = 'covid_cases.json'\n",
    "\n",
    "def check_for_file(covid_file):\n",
    "    # Check to see if the covid_cases.json file exists and is not empty.\n",
    "    if os.path.exists(covid_file) and os.stat(covid_file).st_size != 0:\n",
    "        return True\n",
    "    else:\n",
    "        print(f\"The file {covid_file} has size {os.stat(covid_file).st_size}\")\n",
    "        return False\n",
    "    \n",
    "def get_country_information(existing_data):\n",
    "    # We have to read the existing information, then add the new information and write all of it to an empty file\n",
    "    #country_information = existing_data\n",
    "    write_data = existing_data[:]\n",
    "    today = datetime.today()\n",
    "    date = today.strftime(\"%B %d, %Y %H:%M\")\n",
    "    country = input(\"Enter Country ('q' to quit): \")\n",
    "    if country == 'q':\n",
    "        return False\n",
    "    else:\n",
    "        number_of_cases = input(\"Enter number of cases ('q' to quit: \")\n",
    "        if number_of_cases == 'q':\n",
    "            return False\n",
    "        else:\n",
    "            country_information = [country, date, number_of_cases]\n",
    "            write_data.append(country_information)\n",
    "            print(write_data)\n",
    "            with open('covid_cases.json', 'w') as f:\n",
    "                json.dump(write_data, f)\n",
    "                get_country_information(write_data)\n",
    "            \n",
    "def write_to_file(country_information):\n",
    "    print(country_information)\n",
    "\n",
    "'''def enter_country_information():\n",
    "    country_information = get_country_information()\n",
    "    if country_information: '''\n",
    "    \n",
    "#for i in range(0, len(country_information)):\n",
    "#    print(country_information[i]) \n",
    "\n",
    "\n",
    "\n",
    "if check_for_file(covid_file):\n",
    "    print(f\"{covid_file} exists.\")\n",
    "    # Read the file\n",
    "    with open(covid_file) as f:\n",
    "        existing_data = json.load(f)\n",
    "        print(f\"Existing Data: {existing_data}\")\n",
    "        get_country_information(existing_data)\n",
    "else:\n",
    "    print(f\"{covid_file} does not exist.\")\n",
    "    print(\"Creating file.\")\n",
    "    covid_file = open(covid_file, 'w')\n",
    "    covid_file.close()\n",
    "    existing_data = []\n",
    "    existing_data = get_country_information(existing_data)\n",
    "\n",
    "#get_country_information(existing_data)\n",
    "\n",
    "\n",
    "\n",
    "\n",
    "\n"
   ]
  },
  {
   "cell_type": "code",
   "execution_count": 31,
   "metadata": {},
   "outputs": [
    {
     "ename": "TypeError",
     "evalue": "stat: path should be string, bytes, os.PathLike or integer, not _io.TextIOWrapper",
     "output_type": "error",
     "traceback": [
      "\u001b[1;31m---------------------------------------------------------------------------\u001b[0m",
      "\u001b[1;31mTypeError\u001b[0m                                 Traceback (most recent call last)",
      "\u001b[1;32m<ipython-input-31-24af0991bf20>\u001b[0m in \u001b[0;36m<module>\u001b[1;34m\u001b[0m\n\u001b[0;32m      2\u001b[0m \u001b[1;33m\u001b[0m\u001b[0m\n\u001b[0;32m      3\u001b[0m \u001b[1;31m#stats =\u001b[0m\u001b[1;33m\u001b[0m\u001b[1;33m\u001b[0m\u001b[1;33m\u001b[0m\u001b[0m\n\u001b[1;32m----> 4\u001b[1;33m \u001b[0mprint\u001b[0m\u001b[1;33m(\u001b[0m\u001b[0mos\u001b[0m\u001b[1;33m.\u001b[0m\u001b[0mstat\u001b[0m\u001b[1;33m(\u001b[0m\u001b[0mcovid_file\u001b[0m\u001b[1;33m)\u001b[0m\u001b[1;33m.\u001b[0m\u001b[0mst_size\u001b[0m\u001b[1;33m)\u001b[0m\u001b[1;33m\u001b[0m\u001b[1;33m\u001b[0m\u001b[0m\n\u001b[0m",
      "\u001b[1;31mTypeError\u001b[0m: stat: path should be string, bytes, os.PathLike or integer, not _io.TextIOWrapper"
     ]
    }
   ],
   "source": [
    "#os.stat.st_size('covid_cases.json')\n",
    "\n",
    "#stats = \n",
    "print(os.stat(covid_file).st_size)"
   ]
  },
  {
   "cell_type": "code",
   "execution_count": null,
   "metadata": {},
   "outputs": [],
   "source": []
  }
 ],
 "metadata": {
  "kernelspec": {
   "display_name": "Python 3",
   "language": "python",
   "name": "python3"
  },
  "language_info": {
   "codemirror_mode": {
    "name": "ipython",
    "version": 3
   },
   "file_extension": ".py",
   "mimetype": "text/x-python",
   "name": "python",
   "nbconvert_exporter": "python",
   "pygments_lexer": "ipython3",
   "version": "3.7.4"
  }
 },
 "nbformat": 4,
 "nbformat_minor": 2
}
